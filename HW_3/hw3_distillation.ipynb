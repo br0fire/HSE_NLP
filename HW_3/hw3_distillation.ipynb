{
 "cells": [
  {
   "cell_type": "markdown",
   "id": "aa6c9d7e-8f48-41e9-94ab-5c3b1b717694",
   "metadata": {},
   "source": [
    "# Глубинное обучение для текстовых данных, ФКН ВШЭ\n",
    "## Домашнее задание 3: Уменьшение размеров модели\n",
    "### Оценивание и штрафы\n",
    "\n",
    "Максимально допустимая оценка за работу — __10 баллов__.\n",
    "\n",
    "Задание выполняется самостоятельно. «Похожие» решения считаются плагиатом и все задействованные студенты (в том числе те, у кого списали) не могут получить за него больше 0 баллов. Весь код должен быть написан самостоятельно. Чужим кодом для пользоваться запрещается даже с указанием ссылки на источник. В разумных рамках, конечно. Взять пару очевидных строчек кода для реализации какого-то небольшого функционала можно.\n",
    "\n",
    "Неэффективная реализация кода может негативно отразиться на оценке. Также оценка может быть снижена за плохо читаемый код и плохо оформленные графики. Все ответы должны сопровождаться кодом или комментариями о том, как они были получены.\n",
    "\n",
    "__Мягкий дедлайн 24.10.25 23:59__ \\\n",
    "__Жесткий дедлайн 26.10.25 23:59__\n",
    "\n",
    "### О задании\n",
    "\n",
    "В этом задании вам предстоит научиться решать задачу Named Entity Recognition (NER) на самом популярном датасете – [CoNLL-2003](https://paperswithcode.com/dataset/conll-2003). В вашем распоряжении будет предобученный BERT, который вам необходимо уменьшить с минимальными потерями в качестве до размера 20М параметров. Для этого вы самостоятельно реализуете факторизацию эмбеддингов, дистилляцию, шеринг параметров и так далее.\n",
    "\n",
    "В этом задании вам придется проводить довольно много экспериментов, поэтому мы рекомендуем не писать весь код в тетрадке, а завести разные файлы для отдельных логических блоков и скомпоновать все в виде проекта. Это позволит вашему ноутбуку не разрастаться и сильно облегчит задачу и вам, и проверяющим. Так же постарайтесь логгировать все ваши эксперименты в wandb, чтобы ничего не потерялось.\n",
    "\n",
    "### Оценивание\n",
    "Оценка за это домашнее задание будет формироваться из оценки за __задания__ и за __отчет__, в котором от вас требуется написать о проделанной работе. За отчет можно получить до 2-х баллов, однако в случае отсутствия отчета баллы за соответствующие задания не будут ставиться. Задания делятся на две части: _номерные_ и _на выбор_. За _номерные_ можно получить в сумме 6 баллов, за задания _на выбор_ можно получить до 14. То есть за все дз можно получить 22 балла (но не радуйтесь рано, это не так просто). Все, что вы наберете свыше 10, будет считаться бонусами.\n",
    "\n",
    "\n",
    "### О датасете\n",
    "\n",
    "Named Entity Recognition – это задача классификации токенов по классам сущностей. В CoNLL-2003 для именования сущностей используется маркировка **BIO** (Beggining, Inside, Outside), в которой метки означают следующее:\n",
    "\n",
    "- *B-{метка}* – начало сущности *{метка}*\n",
    "- *I-{метка}* – продолжнение сущности *{метка}*\n",
    "- *O* – не сущность\n",
    "\n",
    "Существуют так же и другие способы маркировки, например, BILUO. Почитать о них можно [тут](https://en.wikipedia.org/wiki/Inside–outside–beginning_(tagging)) и [тут](https://www.youtube.com/watch?v=dQw4w9WgXcQ).\n",
    "\n",
    "Всего в датасете есть 9 разных меток.\n",
    "- O – слову не соответствует ни одна сущность.\n",
    "- B-PER/I-PER – слово или набор слов соответстует определенному _человеку_.\n",
    "- B-ORG/I-ORG – слово или набор слов соответстует определенной _организации_.\n",
    "- B-LOC/I-LOC – слово или набор слов соответстует определенной _локации_.\n",
    "- B-MISC/I-MISC – слово или набор слов соответстует сущности, которая не относится ни к одной из предыдущих. Например, национальность, произведение искусства, мероприятие и т.д.\n",
    "\n",
    "Приступим!"
   ]
  },
  {
   "cell_type": "markdown",
   "id": "6fe56a70-a72d-40a0-9ae3-395ec6460657",
   "metadata": {},
   "source": [
    "Начнем с загрузки и предобработки датасета."
   ]
  },
  {
   "cell_type": "code",
   "execution_count": 1,
   "id": "3ef87648-86ab-4f81-9db3-5cb7f54c575d",
   "metadata": {},
   "outputs": [
    {
     "data": {
      "text/plain": [
       "DatasetDict({\n",
       "    train: Dataset({\n",
       "        features: ['tokens', 'ner_tags'],\n",
       "        num_rows: 14041\n",
       "    })\n",
       "    validation: Dataset({\n",
       "        features: ['tokens', 'ner_tags'],\n",
       "        num_rows: 3250\n",
       "    })\n",
       "    test: Dataset({\n",
       "        features: ['tokens', 'ner_tags'],\n",
       "        num_rows: 3453\n",
       "    })\n",
       "})"
      ]
     },
     "execution_count": 1,
     "metadata": {},
     "output_type": "execute_result"
    }
   ],
   "source": [
    "from datasets import load_dataset\n",
    "\n",
    "dataset = load_dataset(\"eriktks/conll2003\", trust_remote_code=True)\n",
    "\n",
    "dataset = dataset.remove_columns([\"id\", \"pos_tags\", \"chunk_tags\"])\n",
    "dataset"
   ]
  },
  {
   "cell_type": "code",
   "execution_count": 2,
   "id": "a7c1a5b0-6ca1-4159-9ce6-cff88aca6b96",
   "metadata": {},
   "outputs": [
    {
     "data": {
      "text/plain": [
       "{'tokens': ['EU',\n",
       "  'rejects',\n",
       "  'German',\n",
       "  'call',\n",
       "  'to',\n",
       "  'boycott',\n",
       "  'British',\n",
       "  'lamb',\n",
       "  '.'],\n",
       " 'ner_tags': [3, 0, 7, 0, 0, 0, 7, 0, 0]}"
      ]
     },
     "execution_count": 2,
     "metadata": {},
     "output_type": "execute_result"
    }
   ],
   "source": [
    "dataset['train'][0]"
   ]
  },
  {
   "cell_type": "code",
   "execution_count": 3,
   "id": "04b0e34d-edca-40bc-83ac-cff0c2872f87",
   "metadata": {},
   "outputs": [],
   "source": [
    "label_names = ['O', 'B-PER', 'I-PER', 'B-ORG', 'I-ORG', 'B-LOC', 'I-LOC', 'B-MISC', 'I-MISC']"
   ]
  },
  {
   "cell_type": "code",
   "execution_count": 4,
   "id": "958cdff9-6ea1-4f7f-808b-dbe5620c27e7",
   "metadata": {},
   "outputs": [
    {
     "name": "stdout",
     "output_type": "stream",
     "text": [
      "EU\tB-ORG\n",
      "rejects\tO\n",
      "German\tB-MISC\n",
      "call\tO\n",
      "to\tO\n",
      "boycott\tO\n",
      "British\tB-MISC\n",
      "lamb\tO\n",
      ".\tO\n"
     ]
    }
   ],
   "source": [
    "words = dataset[\"train\"][0][\"tokens\"]\n",
    "labels = dataset[\"train\"][0][\"ner_tags\"]\n",
    "\n",
    "for i in range(len(words)):\n",
    "    print(f'{words[i]}\\t{label_names[labels[i]]}')"
   ]
  },
  {
   "cell_type": "markdown",
   "id": "9ef2312e-1335-4afa-a6e6-3cdde8515fe5",
   "metadata": {},
   "source": [
    "### Предобработка\n",
    "\n",
    "На протяжении всего домашнего задания мы будем использовать _cased_ версию BERT, то есть токенизатор будет учитывать регистр слов. Для задачи NER регистр важен, так как имена и названия организаций или предметов искусства часто пишутся с большой буквы, и будет глупо прятать от модели такую информацию."
   ]
  },
  {
   "cell_type": "code",
   "execution_count": 5,
   "id": "05edcd4e-5360-41a8-b403-a9084d6a3a4a",
   "metadata": {},
   "outputs": [],
   "source": [
    "from transformers import AutoTokenizer\n",
    "\n",
    "tokenizer = AutoTokenizer.from_pretrained(\"bert-base-cased\")"
   ]
  },
  {
   "cell_type": "markdown",
   "id": "09f64076-829a-49f1-af58-6fe60c66f965",
   "metadata": {},
   "source": [
    "При токенизации слова могут разделиться на несколько токенов (как слово `Fischler` из примера ниже), из-за чего появится несоответствие между числом токенов и меток. Это несоответствие нам придется устранить вручную."
   ]
  },
  {
   "cell_type": "code",
   "execution_count": 6,
   "id": "3ebc8789-0bba-4c96-aa1a-84403c93260e",
   "metadata": {},
   "outputs": [
    {
     "name": "stdout",
     "output_type": "stream",
     "text": [
      "Слова:  ['Only', 'France', 'and', 'Britain', 'backed', 'Fischler', \"'s\", 'proposal', '.']\n",
      "Токены: ['[CLS]', 'Only', 'France', 'and', 'Britain', 'backed', 'Fi', '##sch', '##ler', \"'\", 's', 'proposal', '.', '[SEP]']\n",
      "Метки: ['O', 'B-LOC', 'O', 'B-LOC', 'O', 'B-PER', 'O', 'O', 'O']\n"
     ]
    }
   ],
   "source": [
    "example = dataset[\"train\"][12]\n",
    "words = example[\"tokens\"]\n",
    "tags = [label_names[t] for t in example[\"ner_tags\"]]\n",
    "tokenized_text = tokenizer(example[\"tokens\"], is_split_into_words=True)\n",
    "\n",
    "print('Слова: ', words)\n",
    "print('Токены:', tokenized_text.tokens())\n",
    "print('Метки:', tags)"
   ]
  },
  {
   "cell_type": "code",
   "execution_count": 10,
   "id": "749f8535-7b9b-4355-82e1-b55910c97858",
   "metadata": {},
   "outputs": [
    {
     "data": {
      "text/plain": [
       "[None, 0, 1, 2, 3, 4, 5, 5, 5, 6, 6, 7, 8, None]"
      ]
     },
     "execution_count": 10,
     "metadata": {},
     "output_type": "execute_result"
    }
   ],
   "source": [
    "tokenized_text.word_ids(batch_index=0)"
   ]
  },
  {
   "cell_type": "markdown",
   "id": "34949bff-d7e9-47b3-aea7-82f1332a899c",
   "metadata": {},
   "source": [
    "__Задание 1 (1 балл).__ Токенизируйте весь датасет и для каждого текста выравните токены с метками так, чтобы каждому токену соответствовала одна метка. При этом важно сохранить нотацию BIO. И не забудьте про специальные токены! Должно получиться что-то такое:"
   ]
  },
  {
   "cell_type": "code",
   "execution_count": 7,
   "id": "b2e58788-feb8-4339-a3b2-8015dd6f45a2",
   "metadata": {},
   "outputs": [],
   "source": [
    "def align_labels_with_tokens(labels, word_ids):\n",
    "    previous_word_idx = None\n",
    "    aligned_labels = []\n",
    "    for word_idx in word_ids:\n",
    "        if word_idx is None:\n",
    "            aligned_labels.append(-100)\n",
    "        elif word_idx != previous_word_idx:\n",
    "            aligned_labels.append(labels[word_idx])\n",
    "        else:\n",
    "            label_id = labels[word_idx]\n",
    "            label_name = label_names[label_id]\n",
    "            if label_name.startswith(\"B-\"):\n",
    "                label_name = label_name.replace(\"B-\", \"I-\")\n",
    "                label_id = label_names.index(label_name)\n",
    "            aligned_labels.append(label_id)\n",
    "        previous_word_idx = word_idx\n",
    "    return aligned_labels"
   ]
  },
  {
   "cell_type": "code",
   "execution_count": 11,
   "id": "b8352b8f-f60a-4844-b428-9e866678dc64",
   "metadata": {},
   "outputs": [
    {
     "name": "stdout",
     "output_type": "stream",
     "text": [
      "Выровненные метки: [-100, 0, 5, 0, 5, 0, 1, 2, 2, 0, 0, 0, 0, -100]\n",
      "Выровненные названия меток: [-100, 'O', 'B-LOC', 'O', 'B-LOC', 'O', 'B-PER', 'I-PER', 'I-PER', 'O', 'O', 'O', 'O', -100]\n"
     ]
    }
   ],
   "source": [
    "aligned_labels = align_labels_with_tokens(example[\"ner_tags\"], tokenized_text.word_ids(batch_index=0))\n",
    "tags = [label_names[t] if t > -1 else t for t in aligned_labels]\n",
    "print(\"Выровненные метки:\", aligned_labels)\n",
    "print(\"Выровненные названия меток:\", tags)"
   ]
  },
  {
   "cell_type": "markdown",
   "id": "354e9399-8393-4312-88aa-53b727d9df7d",
   "metadata": {},
   "source": [
    "### Метрика\n",
    "\n",
    "Для оценки качества NER обычно используют F1 меру с микро-усреднением. Мы загрузим ее из библиотеки `seqeval`. Функция `f1_score` принимает два 2d списка с правильными и предсказанными метками, записаными текстом, и возвращает для них значение F1. Вы можете использовать ее с параметрами по умолчанию."
   ]
  },
  {
   "cell_type": "code",
   "execution_count": 12,
   "id": "a3df54ab-c65b-40e0-b479-25d6f29e5f4e",
   "metadata": {},
   "outputs": [],
   "source": [
    "# ! pip install seqeval"
   ]
  },
  {
   "cell_type": "code",
   "execution_count": 12,
   "id": "380833ce-1b8e-4b00-90ee-9126df16c19e",
   "metadata": {},
   "outputs": [],
   "source": [
    "from seqeval.metrics import f1_score"
   ]
  },
  {
   "cell_type": "code",
   "execution_count": 13,
   "id": "aa5d2a4e-185e-4891-a7c9-052524607248",
   "metadata": {},
   "outputs": [],
   "source": [
    "def compute_metrics(p):\n",
    "    predictions, labels = p\n",
    "    predictions = np.argmax(predictions, axis=-1)\n",
    "    true_labels = [[label_names[l] for l in label if l != -100] for label in labels]\n",
    "    true_preds = [\n",
    "        [label_names[pred] for (pred, lab) in zip(pred_row, label_row) if lab != -100]\n",
    "        for pred_row, label_row in zip(predictions, labels)\n",
    "    ]\n",
    "    return {\"f1\": f1_score(true_labels, true_preds)}"
   ]
  },
  {
   "cell_type": "markdown",
   "id": "bc901ecf-2de9-4c3f-862c-cf78871d8d9f",
   "metadata": {},
   "source": [
    "Особенность подсчета F1 для NER заключается в том, что в некоторых ситуациях неправильные ответы могут засчитываться как правильные. Например, если модель предсказала `['I-PER', 'I-PER']`, то мы можем догадаться, что на самом деле должно быть `['B-PER', 'I-PER']`, так как сущность не может начинаться с `I-`. Функция `f1_score` учитывает это и поэтому работает только с текстовыми представлениями меток."
   ]
  },
  {
   "cell_type": "markdown",
   "id": "a61400bf-712a-4dfb-a08f-326c5db10eb2",
   "metadata": {},
   "source": [
    "### Модель\n",
    "\n",
    "В качестве базовой модели мы возьмем `bert-base-cased`. Как вы понимаете, он не обучался на задачу NER. Поэтому прежде чем приступать к уменьшению размера BERT, его необходимо дообучить.\n",
    "\n",
    "__Задание 2 (1 балл)__ Дообучите `bert-base-cased` на нашем датасете с помощью обычного fine-tuning. У вас должно получиться хотя бы 0.9 F1 на тестовой выборке. Заметьте, что чем выше качество большой модели, тем лучше будет работать дистиллированный ученик. Для обучения можно использовать `Trainer` из Hugging Face."
   ]
  },
  {
   "cell_type": "code",
   "execution_count": 15,
   "id": "14235f7c-d7a3-4407-98fe-be35bec84008",
   "metadata": {},
   "outputs": [
    {
     "name": "stderr",
     "output_type": "stream",
     "text": [
      "Some weights of BertForTokenClassification were not initialized from the model checkpoint at bert-base-cased and are newly initialized: ['classifier.bias', 'classifier.weight']\n",
      "You should probably TRAIN this model on a down-stream task to be able to use it for predictions and inference.\n"
     ]
    },
    {
     "name": "stdout",
     "output_type": "stream",
     "text": [
      "Число параметров: 107726601\n"
     ]
    }
   ],
   "source": [
    "from transformers import AutoModelForTokenClassification\n",
    "\n",
    "model = AutoModelForTokenClassification.from_pretrained('bert-base-cased', num_labels=len(label_names))\n",
    "\n",
    "print('Число параметров:', sum(p.numel() for p in model.parameters()))"
   ]
  },
  {
   "cell_type": "code",
   "execution_count": 17,
   "id": "9ae197eb-041a-4cdb-864d-69b9cf099be9",
   "metadata": {},
   "outputs": [
    {
     "name": "stderr",
     "output_type": "stream",
     "text": [
      "huggingface/tokenizers: The current process just got forked, after parallelism has already been used. Disabling parallelism to avoid deadlocks...\n",
      "To disable this warning, you can either:\n",
      "\t- Avoid using `tokenizers` before the fork if possible\n",
      "\t- Explicitly set the environment variable TOKENIZERS_PARALLELISM=(true | false)\n"
     ]
    },
    {
     "name": "stdout",
     "output_type": "stream",
     "text": [
      "Some weights of BertForTokenClassification were not initialized from the model checkpoint at bert-base-cased and are newly initialized: ['classifier.bias', 'classifier.weight']\n",
      "You should probably TRAIN this model on a down-stream task to be able to use it for predictions and inference.\n",
      "Число параметров: 107726601\n",
      "  0%|                                                   | 0/132 [00:00<?, ?it/s]/home/jovyan/shares/SR006.nfs2/svgrozny/envs/conda_project/lib/python3.11/site-packages/torch/nn/parallel/_functions.py:71: UserWarning: Was asked to gather along dimension 0, but all input tensors were scalars; will instead unsqueeze and return a vector.\n",
      "  warnings.warn(\n",
      " 33%|██████████████                            | 44/132 [00:13<00:17,  4.90it/s]\n",
      "  0%|                                                     | 0/3 [00:00<?, ?it/s]\u001b[A\n",
      "                                                                                \u001b[A\n",
      "\u001b[A{'eval_loss': 0.06802090257406235, 'eval_f1': 0.9194686591946866, 'eval_runtime': 0.5274, 'eval_samples_per_second': 2662.076, 'eval_steps_per_second': 5.688, 'epoch': 1.0}\n",
      " 33%|██████████████                            | 44/132 [00:14<00:17,  4.90it/s]\n",
      "100%|█████████████████████████████████████████████| 3/3 [00:00<00:00, 14.38it/s]\u001b[A\n",
      "                                                                                \u001b[A/home/jovyan/shares/SR006.nfs2/svgrozny/envs/conda_project/lib/python3.11/site-packages/torch/nn/parallel/_functions.py:71: UserWarning: Was asked to gather along dimension 0, but all input tensors were scalars; will instead unsqueeze and return a vector.\n",
      "  warnings.warn(\n",
      "{'loss': 0.2569, 'grad_norm': 1.2183140516281128, 'learning_rate': 0.00018863636363636362, 'epoch': 1.14}\n",
      " 67%|████████████████████████████              | 88/132 [00:25<00:08,  5.34it/s]\n",
      "  0%|                                                     | 0/3 [00:00<?, ?it/s]\u001b[A\n",
      "                                                                                \u001b[A\n",
      "\u001b[A{'eval_loss': 0.050703443586826324, 'eval_f1': 0.9402241594022417, 'eval_runtime': 0.5177, 'eval_samples_per_second': 2711.947, 'eval_steps_per_second': 5.795, 'epoch': 2.0}\n",
      " 67%|████████████████████████████              | 88/132 [00:25<00:08,  5.34it/s]\n",
      "100%|█████████████████████████████████████████████| 3/3 [00:00<00:00, 14.40it/s]\u001b[A\n",
      "                                                                                \u001b[A/home/jovyan/shares/SR006.nfs2/svgrozny/envs/conda_project/lib/python3.11/site-packages/torch/nn/parallel/_functions.py:71: UserWarning: Was asked to gather along dimension 0, but all input tensors were scalars; will instead unsqueeze and return a vector.\n",
      "  warnings.warn(\n",
      "{'loss': 0.0453, 'grad_norm': 0.252729207277298, 'learning_rate': 7.5e-05, 'epoch': 2.27}\n",
      "100%|█████████████████████████████████████████| 132/132 [00:36<00:00,  5.92it/s]\n",
      "  0%|                                                     | 0/3 [00:00<?, ?it/s]\u001b[A\n",
      "                                                                                \u001b[A\n",
      "\u001b[A{'eval_loss': 0.05241299048066139, 'eval_f1': 0.941518042306097, 'eval_runtime': 0.516, 'eval_samples_per_second': 2720.672, 'eval_steps_per_second': 5.813, 'epoch': 3.0}\n",
      "100%|█████████████████████████████████████████| 132/132 [00:36<00:00,  5.92it/s]\n",
      "100%|█████████████████████████████████████████████| 3/3 [00:00<00:00, 14.39it/s]\u001b[A\n",
      "{'train_runtime': 39.2905, 'train_samples_per_second': 857.611, 'train_steps_per_second': 3.36, 'train_loss': 0.12025163254954598, 'epoch': 3.0}\n",
      "100%|█████████████████████████████████████████| 132/132 [00:39<00:00,  3.36it/s]\n",
      "/home/jovyan/shares/SR006.nfs2/svgrozny/envs/conda_project/lib/python3.11/site-packages/torch/nn/parallel/_functions.py:71: UserWarning: Was asked to gather along dimension 0, but all input tensors were scalars; will instead unsqueeze and return a vector.\n",
      "  warnings.warn(\n",
      "100%|█████████████████████████████████████████████| 3/3 [00:00<00:00,  8.60it/s]\n",
      "\n",
      "Final test F1: 0.9452\n"
     ]
    }
   ],
   "source": [
    "!python3 train_teacher.py"
   ]
  },
  {
   "cell_type": "code",
   "execution_count": 18,
   "id": "f1025833-90ed-4fd9-baa8-c5a76a6334b7",
   "metadata": {},
   "outputs": [
    {
     "name": "stderr",
     "output_type": "stream",
     "text": [
      "huggingface/tokenizers: The current process just got forked, after parallelism has already been used. Disabling parallelism to avoid deadlocks...\n",
      "To disable this warning, you can either:\n",
      "\t- Avoid using `tokenizers` before the fork if possible\n",
      "\t- Explicitly set the environment variable TOKENIZERS_PARALLELISM=(true | false)\n"
     ]
    },
    {
     "name": "stdout",
     "output_type": "stream",
     "text": [
      "checkpoint-132\tcheckpoint-88\n"
     ]
    }
   ],
   "source": [
    "!ls bert-ner"
   ]
  },
  {
   "cell_type": "markdown",
   "id": "c3cda5a7-7fb9-43bc-84e3-e66ec6a48d91",
   "metadata": {},
   "source": [
    "### Факторизация матрицы эмбеддингов\n",
    "\n",
    "Можно заметить, что на данный момент матрица эмбеддингов занимает $V \\cdot H = 28996 \\cdot 768 = 22.268.928$ параметров. Это aж пятая часть от всей модели! Давайте попробуем что-то с этим сделать. В модели [ALBERT](https://arxiv.org/pdf/1909.11942.pdf) предлагается факторизовать матрицу эмбеддингов в произведение двух небольших матриц. Таким образом, параметры эмбеддингов будут содержать $V \\cdot E + E \\cdot H$ элементов, что гораздо меньше $V \\cdot H$, если $H \\gg E$. Авторы выбирают $E = 128$, однако ничего не мешает нам взять любое другое значение. Например, выбрав $H = 64$, мы уменьшим число параметров примерно на 20М.\n",
    "\n",
    "__Задание 3 (1 балл).__ Напишите класс-обертку над слоем эмбеддингов, который реализует факторизацию на две матрицы, и дообучите факторизованную модель. Заметьте, обе матрицы можно инициализировать с помощью SVD разложения, чтобы начальное приближение было хорошим. Это сэкономит очень много времени на дообучении. С рангом разложения $H = 64$ у вас должно получиться F1 больше 0.87."
   ]
  },
  {
   "cell_type": "code",
   "execution_count": 21,
   "id": "c1639dac-cf3c-4312-8330-d4f357f38c0b",
   "metadata": {},
   "outputs": [
    {
     "name": "stderr",
     "output_type": "stream",
     "text": [
      "huggingface/tokenizers: The current process just got forked, after parallelism has already been used. Disabling parallelism to avoid deadlocks...\n",
      "To disable this warning, you can either:\n",
      "\t- Avoid using `tokenizers` before the fork if possible\n",
      "\t- Explicitly set the environment variable TOKENIZERS_PARALLELISM=(true | false)\n"
     ]
    },
    {
     "name": "stdout",
     "output_type": "stream",
     "text": [
      "Some weights of BertForTokenClassification were not initialized from the model checkpoint at bert-base-cased and are newly initialized: ['classifier.bias', 'classifier.weight']\n",
      "You should probably TRAIN this model on a down-stream task to be able to use it for predictions and inference.\n",
      "Число параметров: 107726601\n",
      "Число параметров после факторизации: 87362569\n",
      "  0%|                                                   | 0/176 [00:00<?, ?it/s]/home/jovyan/shares/SR006.nfs2/svgrozny/envs/conda_project/lib/python3.11/site-packages/torch/nn/parallel/_functions.py:71: UserWarning: Was asked to gather along dimension 0, but all input tensors were scalars; will instead unsqueeze and return a vector.\n",
      "  warnings.warn(\n",
      " 25%|██████████▌                               | 44/176 [00:13<00:25,  5.15it/s]\n",
      "  0%|                                                     | 0/3 [00:00<?, ?it/s]\u001b[A\n",
      "                                                                                \u001b[A\n",
      "\u001b[A{'eval_loss': 0.17394877970218658, 'eval_f1': 0.7557160048134777, 'eval_runtime': 0.5239, 'eval_samples_per_second': 2679.96, 'eval_steps_per_second': 5.726, 'epoch': 1.0}\n",
      " 25%|██████████▌                               | 44/176 [00:14<00:25,  5.15it/s]\n",
      "100%|█████████████████████████████████████████████| 3/3 [00:00<00:00, 14.30it/s]\u001b[A\n",
      "                                                                                \u001b[A/home/jovyan/shares/SR006.nfs2/svgrozny/envs/conda_project/lib/python3.11/site-packages/torch/nn/parallel/_functions.py:71: UserWarning: Was asked to gather along dimension 0, but all input tensors were scalars; will instead unsqueeze and return a vector.\n",
      "  warnings.warn(\n",
      "{'loss': 0.4428, 'grad_norm': 1.2160322666168213, 'learning_rate': 7.215909090909091e-05, 'epoch': 1.14}\n",
      " 50%|█████████████████████                     | 88/176 [00:24<00:15,  5.61it/s]\n",
      "  0%|                                                     | 0/3 [00:00<?, ?it/s]\u001b[A\n",
      "                                                                                \u001b[A\n",
      "\u001b[A{'eval_loss': 0.11605269461870193, 'eval_f1': 0.8475684511646914, 'eval_runtime': 0.5226, 'eval_samples_per_second': 2686.7, 'eval_steps_per_second': 5.741, 'epoch': 2.0}\n",
      " 50%|█████████████████████                     | 88/176 [00:24<00:15,  5.61it/s]\n",
      "100%|█████████████████████████████████████████████| 3/3 [00:00<00:00, 14.27it/s]\u001b[A\n",
      "                                                                                \u001b[A/home/jovyan/shares/SR006.nfs2/svgrozny/envs/conda_project/lib/python3.11/site-packages/torch/nn/parallel/_functions.py:71: UserWarning: Was asked to gather along dimension 0, but all input tensors were scalars; will instead unsqueeze and return a vector.\n",
      "  warnings.warn(\n",
      "{'loss': 0.1273, 'grad_norm': 1.484739065170288, 'learning_rate': 4.375e-05, 'epoch': 2.27}\n",
      " 75%|██████████████████████████████▊          | 132/176 [00:34<00:07,  6.07it/s]\n",
      "  0%|                                                     | 0/3 [00:00<?, ?it/s]\u001b[A\n",
      "                                                                                \u001b[A\n",
      "\u001b[A{'eval_loss': 0.09751913696527481, 'eval_f1': 0.8871434477056637, 'eval_runtime': 0.6626, 'eval_samples_per_second': 2118.826, 'eval_steps_per_second': 4.527, 'epoch': 3.0}\n",
      " 75%|██████████████████████████████▊          | 132/176 [00:35<00:07,  6.07it/s]\n",
      "100%|█████████████████████████████████████████████| 3/3 [00:00<00:00, 14.38it/s]\u001b[A\n",
      "                                                                                \u001b[A/home/jovyan/shares/SR006.nfs2/svgrozny/envs/conda_project/lib/python3.11/site-packages/torch/nn/parallel/_functions.py:71: UserWarning: Was asked to gather along dimension 0, but all input tensors were scalars; will instead unsqueeze and return a vector.\n",
      "  warnings.warn(\n",
      "{'loss': 0.0777, 'grad_norm': 1.2855392694473267, 'learning_rate': 1.534090909090909e-05, 'epoch': 3.41}\n",
      "100%|█████████████████████████████████████████| 176/176 [00:45<00:00,  5.11it/s]\n",
      "  0%|                                                     | 0/3 [00:00<?, ?it/s]\u001b[A\n",
      "                                                                                \u001b[A\n",
      "\u001b[A{'eval_loss': 0.08967724442481995, 'eval_f1': 0.9014143094841931, 'eval_runtime': 0.5258, 'eval_samples_per_second': 2669.976, 'eval_steps_per_second': 5.705, 'epoch': 4.0}\n",
      "100%|█████████████████████████████████████████| 176/176 [00:46<00:00,  5.11it/s]\n",
      "100%|█████████████████████████████████████████████| 3/3 [00:00<00:00, 14.34it/s]\u001b[A\n",
      "{'train_runtime': 48.2586, 'train_samples_per_second': 930.984, 'train_steps_per_second': 3.647, 'train_loss': 0.19269693236459384, 'epoch': 4.0}\n",
      "100%|█████████████████████████████████████████| 176/176 [00:48<00:00,  3.65it/s]\n",
      "/home/jovyan/shares/SR006.nfs2/svgrozny/envs/conda_project/lib/python3.11/site-packages/torch/nn/parallel/_functions.py:71: UserWarning: Was asked to gather along dimension 0, but all input tensors were scalars; will instead unsqueeze and return a vector.\n",
      "  warnings.warn(\n",
      "100%|█████████████████████████████████████████████| 3/3 [00:00<00:00,  8.64it/s]\n",
      "\n",
      "Final test F1: 0.8980\n"
     ]
    }
   ],
   "source": [
    "!python3 train_factorize.py"
   ]
  },
  {
   "cell_type": "markdown",
   "id": "6220bd15-3681-4006-b7e0-44838b3500ad",
   "metadata": {},
   "source": [
    "### Дистилляция знаний\n",
    "\n",
    "Дистилляция знаний – это парадигма обучения, в которой знания модели-учителя дистиллируются в модель-ученика. Учеником может быть произвольная модель меньшего размера, решающая ту же задачу, однако обычно ученик имеет ту же архитектуру, что и учитель. При дистилляции используются два функционала ошибки:\n",
    "\n",
    "1. Стандартная кросс-энтропия.\n",
    "1. Функция, задающая расстояние между распределениями предсказаний учителя и ученика. Чаще всего используют KL-дивергенцию.\n",
    "\n",
    "Для того, чтобы распределение предсказаний учителя не было вырожденным, к softmax добавляют температуру больше 1, например, 2 или 5.   \n",
    "__Важно:__ при делении логитов на температуру значения градиентов уменьшаются в $\\tau^2$ раз (проверьте это!). Поэтому для возвращения их в изначальный масштаб ошибку надо домножить на $\\tau^2$. Подробнее об этом можно почитать в разделе 2.1 [оригинальной статьи](https://arxiv.org/pdf/1503.02531).\n",
    "\n",
    "<img src=\"https://intellabs.github.io/distiller/imgs/knowledge_distillation.png\" width=\"800\">"
   ]
  },
  {
   "cell_type": "markdown",
   "id": "450e921f-279e-46ae-8c70-5d715b91106e",
   "metadata": {},
   "source": [
    "__Задание 4 (3 балла).__ Реализуйте метод дистилляции знаний, изображенный на картинке. Для подсчета ошибки между предсказаниями ученика и учителя используйте KL-дивергенцию [`nn.KLDivLoss(reduction=\"batchmean\")`](https://pytorch.org/docs/stable/generated/torch.nn.KLDivLoss.html) (обратите внимание на вормат ее входов). Для получения итоговой ошибки суммируйте мягкую ошибку с жесткой.   \n",
    "В качестве учителя используйте дообученный BERT из задания 2. В качестве ученика возьмите необученную модель с размером __не больше 20M__ параметров. Вы можете использовать факторизацию матрицы эмбеддингов для уменьшения числа параметров. Если вы все сделали правильно, то на тестовой выборке вы должны получить значение F1 не меньше 0.7. Вам должно хватить примерно 20к итераций обучения для этого. Если у вас что-то не получается, то можно ориентироваться на статью про [DistilBERT](https://arxiv.org/abs/1910.01108) и на [эту статью](https://www.researchgate.net/publication/375758425_Knowledge_Distillation_Scheme_for_Named_Entity_Recognition_Model_Based_on_BERT).\n",
    "\n",
    "__Важно:__\n",
    "* Не забывайте добавлять _warmup_ при обучении ученика.\n",
    "* Не забывайте переводить учителя в режим _eval_."
   ]
  },
  {
   "cell_type": "code",
   "execution_count": 23,
   "id": "8f571ae8-27d8-4bf8-9e5b-fc5114ec2838",
   "metadata": {},
   "outputs": [
    {
     "name": "stderr",
     "output_type": "stream",
     "text": [
      "huggingface/tokenizers: The current process just got forked, after parallelism has already been used. Disabling parallelism to avoid deadlocks...\n",
      "To disable this warning, you can either:\n",
      "\t- Avoid using `tokenizers` before the fork if possible\n",
      "\t- Explicitly set the environment variable TOKENIZERS_PARALLELISM=(true | false)\n"
     ]
    },
    {
     "name": "stdout",
     "output_type": "stream",
     "text": [
      "Student params: 10,716,425\n",
      "  5%|██                                        | 44/880 [00:16<03:56,  3.54it/s]\n",
      "  0%|                                                     | 0/3 [00:00<?, ?it/s]\u001b[A\n",
      " 67%|██████████████████████████████               | 2/3 [00:00<00:00,  4.63it/s]\u001b[A\n",
      "                                                                                \u001b[A\n",
      "\u001b[A{'eval_loss': 89.7425765991211, 'eval_f1': 0.0, 'eval_runtime': 1.3808, 'eval_samples_per_second': 1016.806, 'eval_steps_per_second': 2.173, 'epoch': 1.0}\n",
      "  5%|██                                        | 44/880 [00:18<03:56,  3.54it/s]\n",
      "100%|█████████████████████████████████████████████| 3/3 [00:00<00:00,  3.77it/s]\u001b[A\n",
      " 10%|████▏                                     | 88/880 [00:30<03:31,  3.75it/s]\u001b[A\n",
      "  0%|                                                     | 0/3 [00:00<?, ?it/s]\u001b[A\n",
      " 67%|██████████████████████████████               | 2/3 [00:00<00:00,  4.62it/s]\u001b[A\n",
      "                                                                                \u001b[A\n",
      "\u001b[A{'eval_loss': 55.44810104370117, 'eval_f1': 0.3143463989187102, 'eval_runtime': 1.38, 'eval_samples_per_second': 1017.394, 'eval_steps_per_second': 2.174, 'epoch': 2.0}\n",
      " 10%|████▏                                     | 88/880 [00:31<03:31,  3.75it/s]\n",
      "100%|█████████████████████████████████████████████| 3/3 [00:00<00:00,  3.77it/s]\u001b[A\n",
      "{'loss': 103.0759, 'grad_norm': 60.23279571533203, 'learning_rate': 0.0004930555555555556, 'epoch': 2.27}\n",
      " 15%|██████▏                                  | 132/880 [00:43<02:53,  4.31it/s]\n",
      "  0%|                                                     | 0/3 [00:00<?, ?it/s]\u001b[A\n",
      " 67%|██████████████████████████████               | 2/3 [00:00<00:00,  4.62it/s]\u001b[A\n",
      "                                                                                \u001b[A\n",
      "\u001b[A{'eval_loss': 37.701663970947266, 'eval_f1': 0.44736374933428014, 'eval_runtime': 1.3779, 'eval_samples_per_second': 1018.912, 'eval_steps_per_second': 2.177, 'epoch': 3.0}\n",
      " 15%|██████▏                                  | 132/880 [00:44<02:53,  4.31it/s]\n",
      "100%|█████████████████████████████████████████████| 3/3 [00:00<00:00,  3.78it/s]\u001b[A\n",
      " 20%|████████▏                                | 176/880 [00:57<02:42,  4.32it/s]\u001b[A\n",
      "  0%|                                                     | 0/3 [00:00<?, ?it/s]\u001b[A\n",
      " 67%|██████████████████████████████               | 2/3 [00:00<00:00,  4.61it/s]\u001b[A\n",
      "                                                                                \u001b[A\n",
      "\u001b[A{'eval_loss': 28.347299575805664, 'eval_f1': 0.5300869565217391, 'eval_runtime': 1.4968, 'eval_samples_per_second': 937.984, 'eval_steps_per_second': 2.004, 'epoch': 4.0}\n",
      " 20%|████████▏                                | 176/880 [00:58<02:42,  4.32it/s]\n",
      "100%|█████████████████████████████████████████████| 3/3 [00:00<00:00,  3.76it/s]\u001b[A\n",
      "{'loss': 33.7009, 'grad_norm': 35.28620529174805, 'learning_rate': 0.00042992424242424245, 'epoch': 4.55}\n",
      " 25%|██████████▎                              | 220/880 [01:11<02:40,  4.10it/s]\n",
      "  0%|                                                     | 0/3 [00:00<?, ?it/s]\u001b[A\n",
      " 67%|██████████████████████████████               | 2/3 [00:00<00:00,  4.62it/s]\u001b[A\n",
      "                                                                                \u001b[A\n",
      "\u001b[A{'eval_loss': 24.363906860351562, 'eval_f1': 0.5787689562890276, 'eval_runtime': 1.3805, 'eval_samples_per_second': 1017.058, 'eval_steps_per_second': 2.173, 'epoch': 5.0}\n",
      " 25%|██████████▎                              | 220/880 [01:12<02:40,  4.10it/s]\n",
      "100%|█████████████████████████████████████████████| 3/3 [00:00<00:00,  3.77it/s]\u001b[A\n",
      " 30%|████████████▎                            | 264/880 [01:24<02:44,  3.74it/s]\u001b[A\n",
      "  0%|                                                     | 0/3 [00:00<?, ?it/s]\u001b[A\n",
      " 67%|██████████████████████████████               | 2/3 [00:00<00:00,  4.62it/s]\u001b[A\n",
      "                                                                                \u001b[A\n",
      "\u001b[A{'eval_loss': 21.834548950195312, 'eval_f1': 0.6179548375252433, 'eval_runtime': 1.3815, 'eval_samples_per_second': 1016.295, 'eval_steps_per_second': 2.172, 'epoch': 6.0}\n",
      " 30%|████████████▎                            | 264/880 [01:26<02:44,  3.74it/s]\n",
      "100%|█████████████████████████████████████████████| 3/3 [00:00<00:00,  3.78it/s]\u001b[A\n",
      "{'loss': 19.4277, 'grad_norm': 65.56041717529297, 'learning_rate': 0.0003667929292929293, 'epoch': 6.82}\n",
      " 35%|██████████████▎                          | 308/880 [01:38<02:18,  4.13it/s]\n",
      "  0%|                                                     | 0/3 [00:00<?, ?it/s]\u001b[A\n",
      " 67%|██████████████████████████████               | 2/3 [00:00<00:00,  4.61it/s]\u001b[A\n",
      "                                                                                \u001b[A\n",
      "\u001b[A{'eval_loss': 20.489688873291016, 'eval_f1': 0.6565112390860114, 'eval_runtime': 1.3808, 'eval_samples_per_second': 1016.817, 'eval_steps_per_second': 2.173, 'epoch': 7.0}\n",
      " 35%|██████████████▎                          | 308/880 [01:39<02:18,  4.13it/s]\n",
      "100%|█████████████████████████████████████████████| 3/3 [00:00<00:00,  3.77it/s]\u001b[A\n",
      " 40%|████████████████▍                        | 352/880 [01:51<02:14,  3.94it/s]\u001b[A\n",
      "  0%|                                                     | 0/3 [00:00<?, ?it/s]\u001b[A\n",
      " 67%|██████████████████████████████               | 2/3 [00:00<00:00,  4.62it/s]\u001b[A\n",
      "                                                                                \u001b[A\n",
      "\u001b[A{'eval_loss': 19.549707412719727, 'eval_f1': 0.6689291101055808, 'eval_runtime': 1.3785, 'eval_samples_per_second': 1018.492, 'eval_steps_per_second': 2.176, 'epoch': 8.0}\n",
      " 40%|████████████████▍                        | 352/880 [01:53<02:14,  3.94it/s]\n",
      "100%|█████████████████████████████████████████████| 3/3 [00:00<00:00,  3.77it/s]\u001b[A\n",
      " 45%|██████████████████▍                      | 396/880 [02:05<01:50,  4.37it/s]\u001b[A\n",
      "  0%|                                                     | 0/3 [00:00<?, ?it/s]\u001b[A\n",
      " 67%|██████████████████████████████               | 2/3 [00:00<00:00,  4.62it/s]\u001b[A\n",
      "                                                                                \u001b[A\n",
      "\u001b[A{'eval_loss': 18.897920608520508, 'eval_f1': 0.6964149504195271, 'eval_runtime': 1.3826, 'eval_samples_per_second': 1015.461, 'eval_steps_per_second': 2.17, 'epoch': 9.0}\n",
      " 45%|██████████████████▍                      | 396/880 [02:06<01:50,  4.37it/s]\n",
      "100%|█████████████████████████████████████████████| 3/3 [00:00<00:00,  3.77it/s]\u001b[A\n",
      "{'loss': 13.7414, 'grad_norm': 53.29777145385742, 'learning_rate': 0.0003036616161616162, 'epoch': 9.09}\n",
      " 50%|████████████████████▌                    | 440/880 [02:18<01:40,  4.36it/s]\n",
      "  0%|                                                     | 0/3 [00:00<?, ?it/s]\u001b[A\n",
      " 67%|██████████████████████████████               | 2/3 [00:00<00:00,  4.62it/s]\u001b[A\n",
      "                                                                                \u001b[A\n",
      "\u001b[A{'eval_loss': 18.27326011657715, 'eval_f1': 0.6997921783487625, 'eval_runtime': 1.3791, 'eval_samples_per_second': 1018.063, 'eval_steps_per_second': 2.175, 'epoch': 10.0}\n",
      " 50%|████████████████████▌                    | 440/880 [02:20<01:40,  4.36it/s]\n",
      "100%|█████████████████████████████████████████████| 3/3 [00:00<00:00,  3.77it/s]\u001b[A\n",
      " 55%|██████████████████████▌                  | 484/880 [02:32<01:34,  4.19it/s]\u001b[A\n",
      "  0%|                                                     | 0/3 [00:00<?, ?it/s]\u001b[A\n",
      " 67%|██████████████████████████████               | 2/3 [00:00<00:00,  3.46it/s]\u001b[A\n",
      "                                                                                \u001b[A\n",
      "\u001b[A{'eval_loss': 17.978994369506836, 'eval_f1': 0.7096528042731782, 'eval_runtime': 1.5264, 'eval_samples_per_second': 919.807, 'eval_steps_per_second': 1.965, 'epoch': 11.0}\n",
      " 55%|██████████████████████▌                  | 484/880 [02:33<01:34,  4.19it/s]\n",
      "100%|█████████████████████████████████████████████| 3/3 [00:00<00:00,  3.25it/s]\u001b[A\n",
      "{'loss': 11.1213, 'grad_norm': 32.37998580932617, 'learning_rate': 0.00024053030303030306, 'epoch': 11.36}\n",
      " 60%|████████████████████████▌                | 528/880 [02:46<01:31,  3.83it/s]\n",
      "  0%|                                                     | 0/3 [00:00<?, ?it/s]\u001b[A\n",
      " 67%|██████████████████████████████               | 2/3 [00:00<00:00,  4.63it/s]\u001b[A\n",
      "                                                                                \u001b[A\n",
      "\u001b[A{'eval_loss': 17.796695709228516, 'eval_f1': 0.7206136145733462, 'eval_runtime': 1.3803, 'eval_samples_per_second': 1017.192, 'eval_steps_per_second': 2.173, 'epoch': 12.0}\n",
      " 60%|████████████████████████▌                | 528/880 [02:47<01:31,  3.83it/s]\n",
      "100%|█████████████████████████████████████████████| 3/3 [00:00<00:00,  3.77it/s]\u001b[A\n",
      " 65%|██████████████████████████▋              | 572/880 [02:59<01:22,  3.72it/s]\u001b[A\n",
      "  0%|                                                     | 0/3 [00:00<?, ?it/s]\u001b[A\n",
      " 67%|██████████████████████████████               | 2/3 [00:00<00:00,  3.65it/s]\u001b[A\n",
      "                                                                                \u001b[A\n",
      "\u001b[A{'eval_loss': 17.624448776245117, 'eval_f1': 0.7278346532740969, 'eval_runtime': 1.4977, 'eval_samples_per_second': 937.425, 'eval_steps_per_second': 2.003, 'epoch': 13.0}\n",
      " 65%|██████████████████████████▋              | 572/880 [03:01<01:22,  3.72it/s]\n",
      "100%|█████████████████████████████████████████████| 3/3 [00:00<00:00,  3.34it/s]\u001b[A\n",
      "{'loss': 9.5529, 'grad_norm': 32.23849868774414, 'learning_rate': 0.0001773989898989899, 'epoch': 13.64}\n",
      " 70%|████████████████████████████▋            | 616/880 [03:13<01:11,  3.69it/s]\n",
      "  0%|                                                     | 0/3 [00:00<?, ?it/s]\u001b[A\n",
      " 67%|██████████████████████████████               | 2/3 [00:00<00:00,  4.62it/s]\u001b[A\n",
      "                                                                                \u001b[A\n",
      "\u001b[A{'eval_loss': 17.278528213500977, 'eval_f1': 0.7211040828062104, 'eval_runtime': 1.3797, 'eval_samples_per_second': 1017.648, 'eval_steps_per_second': 2.174, 'epoch': 14.0}\n",
      " 70%|████████████████████████████▋            | 616/880 [03:14<01:11,  3.69it/s]\n",
      "100%|█████████████████████████████████████████████| 3/3 [00:00<00:00,  3.77it/s]\u001b[A\n",
      " 75%|██████████████████████████████▊          | 660/880 [03:26<00:54,  4.01it/s]\u001b[A\n",
      "  0%|                                                     | 0/3 [00:00<?, ?it/s]\u001b[A\n",
      " 67%|██████████████████████████████               | 2/3 [00:00<00:00,  4.61it/s]\u001b[A\n",
      "                                                                                \u001b[A\n",
      "\u001b[A{'eval_loss': 17.134811401367188, 'eval_f1': 0.7287480680061824, 'eval_runtime': 1.384, 'eval_samples_per_second': 1014.423, 'eval_steps_per_second': 2.168, 'epoch': 15.0}\n",
      " 75%|██████████████████████████████▊          | 660/880 [03:28<00:54,  4.01it/s]\n",
      "100%|█████████████████████████████████████████████| 3/3 [00:00<00:00,  3.75it/s]\u001b[A\n",
      "{'loss': 8.3902, 'grad_norm': 22.482702255249023, 'learning_rate': 0.00011426767676767677, 'epoch': 15.91}\n",
      " 80%|████████████████████████████████▊        | 704/880 [03:40<00:43,  4.02it/s]\n",
      "  0%|                                                     | 0/3 [00:00<?, ?it/s]\u001b[A\n",
      " 67%|██████████████████████████████               | 2/3 [00:00<00:00,  4.63it/s]\u001b[A\n",
      "                                                                                \u001b[A\n",
      "\u001b[A{'eval_loss': 17.197864532470703, 'eval_f1': 0.7314617618586641, 'eval_runtime': 1.3775, 'eval_samples_per_second': 1019.211, 'eval_steps_per_second': 2.178, 'epoch': 16.0}\n",
      " 80%|████████████████████████████████▊        | 704/880 [03:42<00:43,  4.02it/s]\n",
      "100%|█████████████████████████████████████████████| 3/3 [00:00<00:00,  3.77it/s]\u001b[A\n",
      " 85%|██████████████████████████████████▊      | 748/880 [03:54<00:33,  3.95it/s]\u001b[A\n",
      "  0%|                                                     | 0/3 [00:00<?, ?it/s]\u001b[A\n",
      " 67%|██████████████████████████████               | 2/3 [00:00<00:00,  4.63it/s]\u001b[A\n",
      "                                                                                \u001b[A\n",
      "\u001b[A{'eval_loss': 17.057178497314453, 'eval_f1': 0.7334366524602867, 'eval_runtime': 1.3787, 'eval_samples_per_second': 1018.379, 'eval_steps_per_second': 2.176, 'epoch': 17.0}\n",
      " 85%|██████████████████████████████████▊      | 748/880 [03:55<00:33,  3.95it/s]\n",
      "100%|█████████████████████████████████████████████| 3/3 [00:00<00:00,  3.77it/s]\u001b[A\n",
      " 90%|████████████████████████████████████▉    | 792/880 [04:07<00:21,  4.18it/s]\u001b[A\n",
      "  0%|                                                     | 0/3 [00:00<?, ?it/s]\u001b[A\n",
      " 67%|██████████████████████████████               | 2/3 [00:00<00:00,  4.62it/s]\u001b[A\n",
      "                                                                                \u001b[A\n",
      "\u001b[A{'eval_loss': 16.886154174804688, 'eval_f1': 0.7327919566898685, 'eval_runtime': 1.3789, 'eval_samples_per_second': 1018.175, 'eval_steps_per_second': 2.176, 'epoch': 18.0}\n",
      " 90%|████████████████████████████████████▉    | 792/880 [04:09<00:21,  4.18it/s]\n",
      "100%|█████████████████████████████████████████████| 3/3 [00:00<00:00,  3.76it/s]\u001b[A\n",
      "{'loss': 7.6321, 'grad_norm': 14.668778419494629, 'learning_rate': 5.113636363636364e-05, 'epoch': 18.18}\n",
      " 95%|██████████████████████████████████████▉  | 836/880 [04:21<00:10,  4.06it/s]\n",
      "  0%|                                                     | 0/3 [00:00<?, ?it/s]\u001b[A\n",
      " 67%|██████████████████████████████               | 2/3 [00:00<00:00,  4.61it/s]\u001b[A\n",
      "                                                                                \u001b[A\n",
      "\u001b[A{'eval_loss': 16.929954528808594, 'eval_f1': 0.7344807580738735, 'eval_runtime': 1.3833, 'eval_samples_per_second': 1014.969, 'eval_steps_per_second': 2.169, 'epoch': 19.0}\n",
      " 95%|██████████████████████████████████████▉  | 836/880 [04:22<00:10,  4.06it/s]\n",
      "100%|█████████████████████████████████████████████| 3/3 [00:00<00:00,  3.75it/s]\u001b[A\n",
      "100%|█████████████████████████████████████████| 880/880 [04:34<00:00,  3.98it/s]\u001b[A\n",
      "  0%|                                                     | 0/3 [00:00<?, ?it/s]\u001b[A\n",
      " 67%|██████████████████████████████               | 2/3 [00:00<00:00,  4.60it/s]\u001b[A\n",
      "                                                                                \u001b[A\n",
      "\u001b[A{'eval_loss': 16.919008255004883, 'eval_f1': 0.7325851393188855, 'eval_runtime': 1.3791, 'eval_samples_per_second': 1018.069, 'eval_steps_per_second': 2.175, 'epoch': 20.0}\n",
      "100%|█████████████████████████████████████████| 880/880 [04:36<00:00,  3.98it/s]\n",
      "100%|█████████████████████████████████████████████| 3/3 [00:00<00:00,  3.76it/s]\u001b[A\n",
      "{'train_runtime': 276.6004, 'train_samples_per_second': 812.146, 'train_steps_per_second': 3.181, 'train_loss': 24.138787148215552, 'epoch': 20.0}\n",
      "100%|█████████████████████████████████████████| 880/880 [04:36<00:00,  3.18it/s]\n",
      "100%|█████████████████████████████████████████████| 3/3 [00:01<00:00,  2.96it/s]\n",
      "{'eval_loss': 36.3205, 'eval_f1': 0.7248, 'eval_runtime': 1.9273, 'eval_samples_per_second': 728.991, 'eval_steps_per_second': 1.557, 'epoch': 20.0}\n",
      "Final TEST F1: 0.7248\n"
     ]
    }
   ],
   "source": [
    "!python3 train_student.py"
   ]
  },
  {
   "cell_type": "markdown",
   "id": "b159870d-4dc7-4e60-89b2-bf99c48b8ee9",
   "metadata": {},
   "source": [
    "# Задания на выбор\n",
    "\n",
    "Как вы понимаете, есть еще довольно много разных способов уменьшить обученную модель. В этой секции вам предлагается реализовать разные техники на выбор. За каждую из них можно получить разное количество балов в зависимости от сложности. Успешность реализации будет оцениваться как по коду, так и по качеству на тестовой выборке. Все баллы за это дз, которые вы наберете сверх 10, будут считаться бонусными.   \n",
    "В задании 4 вы обучали модель с ограничением числа параметров в 20М. При реализации техник из этой секции придерживайтесь такого же ограничения. Это позволит честно сравнивать методы между собой и делать правильные выводы. Напишите в отчете обо всем, что вы попробовали.\n",
    "\n",
    "* __Шеринг весов (1 балл).__ В модификации BERT [ALBERT](https://arxiv.org/pdf/1909.11942.pdf) помимо факторизации эмбеддингов предлагается шерить веса между слоями. То есть разные слои используют одни и те же веса. Такая техника эвивалентна применению одного и того же слоя несколько раз. Она позволяет в несколько раз уменьшить число параметров и не сильно потерять в качестве.\n",
    "* __Факторизация промежуточных слоев (1 балл).__ Если можно факторизовать матрицу эмбеддингов, то и все остальное тоже можно. Для факторизации слоев существует много разных подходов и выбрать какой-то один сложно. Вы можете вдохновляться [этим списком](https://lechnowak.com/posts/neural-network-low-rank-factorization-techniques/), найти в интернете что-то другое или придумать метод самостоятельно. В любом случае в отчете обоснуйте, почему вы решили сделать так как сделали.\n",
    "* __Приближение промежуточных слоев (2 балла).__ Мы обсуждали, что помимо приближения выходов модели ученика к выходам модели учителя, можно приближать выходы промежуточных слоев. В [этой работе](https://www.researchgate.net/publication/375758425_Knowledge_Distillation_Scheme_for_Named_Entity_Recognition_Model_Based_on_BERT) подробно написано, как это можно сделать.\n",
    "* __Прунинг (4 балла).__ В методе [SparseGPT](https://arxiv.org/abs/2301.00774) предлагается подход, удаляющий веса модели один раз после обучения. При этом оказывается возможным удалить до половины всех весов без потери в качестве. Математика, стоящаяя за техникой, довольно сложная, однако общий подход простой – будем удалять веса в каждом слое по отдельности, при удалении части весов слоя, остальные веса будут перенастраиваться так, чтобы общий выход слоя не изменился.\n",
    "* __Удаление голов (6 баллов).__ В данный момент мы используем все головы внимания, но ряд исследований показывает, что большинство из них можно выбросить без потери качества. В этой [статье](https://arxiv.org/pdf/1905.09418.pdf) предлагается подход, который добавляет гейты к механизму внимания, которые регулируют, какие головы участвуют в слое, а какие – нет. В процессе обучения гейты настраиваются так, чтобы большинство голов не использовалась. В конце обучения неиспользуемые головы можно удалить. За это задание дается много баллов, потому что в методе довольно сложная математика и подход плохо заводится. Если вы решитесь потратить на него свои силы, то в случае неудачи мы дадим промежуточные баллы, опираясь на отчет.   \n",
    "__Совет:__ во время обучения внимательно следите за поведением гейтов. Если вы все сделали правильно, то они должны зануляться. Однако зануляются они не всегда сразу, им надо дать время и обучать модель подольше."
   ]
  },
  {
   "cell_type": "code",
   "execution_count": null,
   "id": "48496261-199c-4009-8315-96960c984a30",
   "metadata": {},
   "outputs": [],
   "source": []
  }
 ],
 "metadata": {
  "kernelspec": {
   "display_name": "Python [conda env:svgrozny-conda_project]",
   "language": "python",
   "name": "conda-env-svgrozny-conda_project-py"
  },
  "language_info": {
   "codemirror_mode": {
    "name": "ipython",
    "version": 3
   },
   "file_extension": ".py",
   "mimetype": "text/x-python",
   "name": "python",
   "nbconvert_exporter": "python",
   "pygments_lexer": "ipython3",
   "version": "3.11.14"
  }
 },
 "nbformat": 4,
 "nbformat_minor": 5
}
